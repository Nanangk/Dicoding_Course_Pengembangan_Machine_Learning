{
  "nbformat": 4,
  "nbformat_minor": 0,
  "metadata": {
    "colab": {
      "name": "Binary Text Classification.ipynb",
      "provenance": [],
      "authorship_tag": "ABX9TyPmOl1ynKWRTJYtksCHtwEy",
      "include_colab_link": true
    },
    "kernelspec": {
      "name": "python3",
      "display_name": "Python 3"
    }
  },
  "cells": [
    {
      "cell_type": "markdown",
      "metadata": {
        "id": "view-in-github",
        "colab_type": "text"
      },
      "source": [
        "<a href=\"https://colab.research.google.com/github/Nanangk/Dicoding_Course_Pengembangan_Machine_Learning/blob/master/Binary_Text_Classification.ipynb\" target=\"_parent\"><img src=\"https://colab.research.google.com/assets/colab-badge.svg\" alt=\"Open In Colab\"/></a>"
      ]
    },
    {
      "cell_type": "code",
      "metadata": {
        "id": "64-ZfGZuc9C0",
        "colab_type": "code",
        "colab": {}
      },
      "source": [
        "import pandas as pd\n",
        "df = pd.read_csv('yelp_labelled.txt', names=['sentence', 'label'], sep='\\t')"
      ],
      "execution_count": 2,
      "outputs": []
    },
    {
      "cell_type": "code",
      "metadata": {
        "id": "iGlr49VsfRmc",
        "colab_type": "code",
        "colab": {
          "base_uri": "https://localhost:8080/",
          "height": 196
        },
        "outputId": "6c924336-6c48-41ef-e514-e63cc0bf66a3"
      },
      "source": [
        "df.tail()"
      ],
      "execution_count": 3,
      "outputs": [
        {
          "output_type": "execute_result",
          "data": {
            "text/html": [
              "<div>\n",
              "<style scoped>\n",
              "    .dataframe tbody tr th:only-of-type {\n",
              "        vertical-align: middle;\n",
              "    }\n",
              "\n",
              "    .dataframe tbody tr th {\n",
              "        vertical-align: top;\n",
              "    }\n",
              "\n",
              "    .dataframe thead th {\n",
              "        text-align: right;\n",
              "    }\n",
              "</style>\n",
              "<table border=\"1\" class=\"dataframe\">\n",
              "  <thead>\n",
              "    <tr style=\"text-align: right;\">\n",
              "      <th></th>\n",
              "      <th>sentence</th>\n",
              "      <th>label</th>\n",
              "    </tr>\n",
              "  </thead>\n",
              "  <tbody>\n",
              "    <tr>\n",
              "      <th>995</th>\n",
              "      <td>I think food should have flavor and texture an...</td>\n",
              "      <td>0</td>\n",
              "    </tr>\n",
              "    <tr>\n",
              "      <th>996</th>\n",
              "      <td>Appetite instantly gone.</td>\n",
              "      <td>0</td>\n",
              "    </tr>\n",
              "    <tr>\n",
              "      <th>997</th>\n",
              "      <td>Overall I was not impressed and would not go b...</td>\n",
              "      <td>0</td>\n",
              "    </tr>\n",
              "    <tr>\n",
              "      <th>998</th>\n",
              "      <td>The whole experience was underwhelming, and I ...</td>\n",
              "      <td>0</td>\n",
              "    </tr>\n",
              "    <tr>\n",
              "      <th>999</th>\n",
              "      <td>Then, as if I hadn't wasted enough of my life ...</td>\n",
              "      <td>0</td>\n",
              "    </tr>\n",
              "  </tbody>\n",
              "</table>\n",
              "</div>"
            ],
            "text/plain": [
              "                                              sentence  label\n",
              "995  I think food should have flavor and texture an...      0\n",
              "996                           Appetite instantly gone.      0\n",
              "997  Overall I was not impressed and would not go b...      0\n",
              "998  The whole experience was underwhelming, and I ...      0\n",
              "999  Then, as if I hadn't wasted enough of my life ...      0"
            ]
          },
          "metadata": {
            "tags": []
          },
          "execution_count": 3
        }
      ]
    },
    {
      "cell_type": "code",
      "metadata": {
        "id": "lNj5n5DrfcbS",
        "colab_type": "code",
        "colab": {}
      },
      "source": [
        "from sklearn.model_selection import train_test_split\n",
        "kalimat = df['sentence'].values\n",
        "y = df['label'].values\n",
        "kalimat_latih, kalimat_test, y_latih, y_test = train_test_split(kalimat, y, test_size=0.2)"
      ],
      "execution_count": 4,
      "outputs": []
    },
    {
      "cell_type": "code",
      "metadata": {
        "id": "jZRQUuGCfhGM",
        "colab_type": "code",
        "colab": {}
      },
      "source": [
        "from tensorflow.keras.preprocessing.text import Tokenizer\n",
        "from tensorflow.keras.preprocessing.sequence import pad_sequences"
      ],
      "execution_count": 5,
      "outputs": []
    },
    {
      "cell_type": "code",
      "metadata": {
        "id": "98bbpOObfl91",
        "colab_type": "code",
        "colab": {}
      },
      "source": [
        "tokenizer = Tokenizer(num_words = 250, oov_token = 'x')\n",
        "tokenizer.fit_on_texts(kalimat_latih) \n",
        "tokenizer.fit_on_texts(kalimat_test)"
      ],
      "execution_count": 8,
      "outputs": []
    },
    {
      "cell_type": "code",
      "metadata": {
        "id": "69ocBLV3f0-H",
        "colab_type": "code",
        "colab": {}
      },
      "source": [
        "sekuens_latih = tokenizer.texts_to_sequences(kalimat_latih)\n",
        "sekuens_test = tokenizer.texts_to_sequences(kalimat_test)\n",
        " \n",
        "padded_latih = pad_sequences(sekuens_latih) \n",
        "padded_test = pad_sequences(sekuens_test)"
      ],
      "execution_count": 9,
      "outputs": []
    },
    {
      "cell_type": "code",
      "metadata": {
        "id": "fS26Sb00f9tz",
        "colab_type": "code",
        "colab": {}
      },
      "source": [
        "import tensorflow as tf\n",
        "model = tf.keras.Sequential([\n",
        "    tf.keras.layers.Embedding(250, 16, input_length=20),\n",
        "    tf.keras.layers.GlobalAveragePooling1D(),\n",
        "    tf.keras.layers.Dense(24, activation='relu'),\n",
        "    tf.keras.layers.Dense(1, activation='sigmoid')\n",
        "])\n",
        "model.compile(loss='binary_crossentropy',optimizer='adam',metrics=['accuracy'])"
      ],
      "execution_count": 10,
      "outputs": []
    },
    {
      "cell_type": "code",
      "metadata": {
        "id": "EH2Z_k_NgSzg",
        "colab_type": "code",
        "colab": {
          "base_uri": "https://localhost:8080/",
          "height": 1000
        },
        "outputId": "f73bbbd9-e42d-4816-aa71-7b69dc86679b"
      },
      "source": [
        "num_epochs = 30\n",
        "history = model.fit(padded_latih, y_latih, epochs=num_epochs, \n",
        "                    validation_data=(padded_test, y_test), verbose=2)"
      ],
      "execution_count": 11,
      "outputs": [
        {
          "output_type": "stream",
          "text": [
            "Epoch 1/30\n",
            "WARNING:tensorflow:Model was constructed with shape (None, 20) for input Tensor(\"embedding_input:0\", shape=(None, 20), dtype=float32), but it was called on an input with incompatible shape (32, 32).\n",
            "WARNING:tensorflow:Model was constructed with shape (None, 20) for input Tensor(\"embedding_input:0\", shape=(None, 20), dtype=float32), but it was called on an input with incompatible shape (32, 32).\n",
            "WARNING:tensorflow:Model was constructed with shape (None, 20) for input Tensor(\"embedding_input:0\", shape=(None, 20), dtype=float32), but it was called on an input with incompatible shape (None, 31).\n",
            "25/25 - 0s - loss: 0.6929 - accuracy: 0.5100 - val_loss: 0.6918 - val_accuracy: 0.5350\n",
            "Epoch 2/30\n",
            "25/25 - 0s - loss: 0.6910 - accuracy: 0.5537 - val_loss: 0.6909 - val_accuracy: 0.5100\n",
            "Epoch 3/30\n",
            "25/25 - 0s - loss: 0.6890 - accuracy: 0.5975 - val_loss: 0.6879 - val_accuracy: 0.5700\n",
            "Epoch 4/30\n",
            "25/25 - 0s - loss: 0.6847 - accuracy: 0.5938 - val_loss: 0.6842 - val_accuracy: 0.5750\n",
            "Epoch 5/30\n",
            "25/25 - 0s - loss: 0.6793 - accuracy: 0.6075 - val_loss: 0.6768 - val_accuracy: 0.6300\n",
            "Epoch 6/30\n",
            "25/25 - 0s - loss: 0.6699 - accuracy: 0.6662 - val_loss: 0.6670 - val_accuracy: 0.6650\n",
            "Epoch 7/30\n",
            "25/25 - 0s - loss: 0.6565 - accuracy: 0.6888 - val_loss: 0.6547 - val_accuracy: 0.6600\n",
            "Epoch 8/30\n",
            "25/25 - 0s - loss: 0.6399 - accuracy: 0.7050 - val_loss: 0.6378 - val_accuracy: 0.7050\n",
            "Epoch 9/30\n",
            "25/25 - 0s - loss: 0.6180 - accuracy: 0.7163 - val_loss: 0.6189 - val_accuracy: 0.7000\n",
            "Epoch 10/30\n",
            "25/25 - 0s - loss: 0.5914 - accuracy: 0.7675 - val_loss: 0.5984 - val_accuracy: 0.7100\n",
            "Epoch 11/30\n",
            "25/25 - 0s - loss: 0.5636 - accuracy: 0.7650 - val_loss: 0.5732 - val_accuracy: 0.7300\n",
            "Epoch 12/30\n",
            "25/25 - 0s - loss: 0.5351 - accuracy: 0.7850 - val_loss: 0.5515 - val_accuracy: 0.7650\n",
            "Epoch 13/30\n",
            "25/25 - 0s - loss: 0.5146 - accuracy: 0.8037 - val_loss: 0.5358 - val_accuracy: 0.7850\n",
            "Epoch 14/30\n",
            "25/25 - 0s - loss: 0.4851 - accuracy: 0.8062 - val_loss: 0.5174 - val_accuracy: 0.8050\n",
            "Epoch 15/30\n",
            "25/25 - 0s - loss: 0.4588 - accuracy: 0.8313 - val_loss: 0.5044 - val_accuracy: 0.8050\n",
            "Epoch 16/30\n",
            "25/25 - 0s - loss: 0.4388 - accuracy: 0.8213 - val_loss: 0.4974 - val_accuracy: 0.7750\n",
            "Epoch 17/30\n",
            "25/25 - 0s - loss: 0.4178 - accuracy: 0.8413 - val_loss: 0.4804 - val_accuracy: 0.7950\n",
            "Epoch 18/30\n",
            "25/25 - 0s - loss: 0.3991 - accuracy: 0.8413 - val_loss: 0.4709 - val_accuracy: 0.7900\n",
            "Epoch 19/30\n",
            "25/25 - 0s - loss: 0.3832 - accuracy: 0.8575 - val_loss: 0.4741 - val_accuracy: 0.7750\n",
            "Epoch 20/30\n",
            "25/25 - 0s - loss: 0.3712 - accuracy: 0.8550 - val_loss: 0.4599 - val_accuracy: 0.8000\n",
            "Epoch 21/30\n",
            "25/25 - 0s - loss: 0.3572 - accuracy: 0.8650 - val_loss: 0.4677 - val_accuracy: 0.7800\n",
            "Epoch 22/30\n",
            "25/25 - 0s - loss: 0.3514 - accuracy: 0.8675 - val_loss: 0.4635 - val_accuracy: 0.7700\n",
            "Epoch 23/30\n",
            "25/25 - 0s - loss: 0.3379 - accuracy: 0.8737 - val_loss: 0.4536 - val_accuracy: 0.7900\n",
            "Epoch 24/30\n",
            "25/25 - 0s - loss: 0.3311 - accuracy: 0.8687 - val_loss: 0.4590 - val_accuracy: 0.7900\n",
            "Epoch 25/30\n",
            "25/25 - 0s - loss: 0.3211 - accuracy: 0.8763 - val_loss: 0.4537 - val_accuracy: 0.7800\n",
            "Epoch 26/30\n",
            "25/25 - 0s - loss: 0.3131 - accuracy: 0.8788 - val_loss: 0.4584 - val_accuracy: 0.7800\n",
            "Epoch 27/30\n",
            "25/25 - 0s - loss: 0.3096 - accuracy: 0.8737 - val_loss: 0.4620 - val_accuracy: 0.7800\n",
            "Epoch 28/30\n",
            "25/25 - 0s - loss: 0.3000 - accuracy: 0.8863 - val_loss: 0.4536 - val_accuracy: 0.8100\n",
            "Epoch 29/30\n",
            "25/25 - 0s - loss: 0.2954 - accuracy: 0.8763 - val_loss: 0.4564 - val_accuracy: 0.8100\n",
            "Epoch 30/30\n",
            "25/25 - 0s - loss: 0.2892 - accuracy: 0.8888 - val_loss: 0.4633 - val_accuracy: 0.7900\n"
          ],
          "name": "stdout"
        }
      ]
    },
    {
      "cell_type": "code",
      "metadata": {
        "id": "jMsCcBbWga63",
        "colab_type": "code",
        "colab": {}
      },
      "source": [
        ""
      ],
      "execution_count": null,
      "outputs": []
    }
  ]
}