{
  "nbformat": 4,
  "nbformat_minor": 0,
  "metadata": {
    "colab": {
      "name": "Model klasifikasi 2 Kelas",
      "provenance": [],
      "authorship_tag": "ABX9TyPo2UPUsGVa7w2Vw4uwGSPP",
      "include_colab_link": true
    },
    "kernelspec": {
      "name": "python3",
      "display_name": "Python 3"
    }
  },
  "cells": [
    {
      "cell_type": "markdown",
      "metadata": {
        "id": "view-in-github",
        "colab_type": "text"
      },
      "source": [
        "<a href=\"https://colab.research.google.com/github/Nanangk/Dicoding_Course_Pengembangan_Machine_Learning/blob/master/Model_klasifikasi_2_Kelas.ipynb\" target=\"_parent\"><img src=\"https://colab.research.google.com/assets/colab-badge.svg\" alt=\"Open In Colab\"/></a>"
      ]
    },
    {
      "cell_type": "code",
      "metadata": {
        "id": "gW7RPz5JZd2v",
        "colab_type": "code",
        "colab": {}
      },
      "source": [
        "import pandas as pd"
      ],
      "execution_count": 1,
      "outputs": []
    },
    {
      "cell_type": "code",
      "metadata": {
        "id": "oGh0vgiFaTHj",
        "colab_type": "code",
        "colab": {}
      },
      "source": [
        "df = pd.read_csv('citrus.csv')"
      ],
      "execution_count": 2,
      "outputs": []
    },
    {
      "cell_type": "code",
      "metadata": {
        "id": "7EtJ5cieaZVE",
        "colab_type": "code",
        "colab": {
          "base_uri": "https://localhost:8080/",
          "height": 234
        },
        "outputId": "14f7e9ca-a88c-4307-b508-f40ee7086e46"
      },
      "source": [
        "df.info()"
      ],
      "execution_count": 3,
      "outputs": [
        {
          "output_type": "stream",
          "text": [
            "<class 'pandas.core.frame.DataFrame'>\n",
            "RangeIndex: 10000 entries, 0 to 9999\n",
            "Data columns (total 6 columns):\n",
            " #   Column    Non-Null Count  Dtype  \n",
            "---  ------    --------------  -----  \n",
            " 0   name      10000 non-null  object \n",
            " 1   diameter  10000 non-null  float64\n",
            " 2   weight    10000 non-null  float64\n",
            " 3   red       10000 non-null  int64  \n",
            " 4   green     10000 non-null  int64  \n",
            " 5   blue      10000 non-null  int64  \n",
            "dtypes: float64(2), int64(3), object(1)\n",
            "memory usage: 468.9+ KB\n"
          ],
          "name": "stdout"
        }
      ]
    },
    {
      "cell_type": "code",
      "metadata": {
        "id": "z27GowjFabxK",
        "colab_type": "code",
        "colab": {
          "base_uri": "https://localhost:8080/",
          "height": 196
        },
        "outputId": "65af5a5e-8935-4e81-fb83-93edc9236351"
      },
      "source": [
        "df.head()"
      ],
      "execution_count": 5,
      "outputs": [
        {
          "output_type": "execute_result",
          "data": {
            "text/html": [
              "<div>\n",
              "<style scoped>\n",
              "    .dataframe tbody tr th:only-of-type {\n",
              "        vertical-align: middle;\n",
              "    }\n",
              "\n",
              "    .dataframe tbody tr th {\n",
              "        vertical-align: top;\n",
              "    }\n",
              "\n",
              "    .dataframe thead th {\n",
              "        text-align: right;\n",
              "    }\n",
              "</style>\n",
              "<table border=\"1\" class=\"dataframe\">\n",
              "  <thead>\n",
              "    <tr style=\"text-align: right;\">\n",
              "      <th></th>\n",
              "      <th>name</th>\n",
              "      <th>diameter</th>\n",
              "      <th>weight</th>\n",
              "      <th>red</th>\n",
              "      <th>green</th>\n",
              "      <th>blue</th>\n",
              "    </tr>\n",
              "  </thead>\n",
              "  <tbody>\n",
              "    <tr>\n",
              "      <th>0</th>\n",
              "      <td>orange</td>\n",
              "      <td>2.96</td>\n",
              "      <td>86.76</td>\n",
              "      <td>172</td>\n",
              "      <td>85</td>\n",
              "      <td>2</td>\n",
              "    </tr>\n",
              "    <tr>\n",
              "      <th>1</th>\n",
              "      <td>orange</td>\n",
              "      <td>3.91</td>\n",
              "      <td>88.05</td>\n",
              "      <td>166</td>\n",
              "      <td>78</td>\n",
              "      <td>3</td>\n",
              "    </tr>\n",
              "    <tr>\n",
              "      <th>2</th>\n",
              "      <td>orange</td>\n",
              "      <td>4.42</td>\n",
              "      <td>95.17</td>\n",
              "      <td>156</td>\n",
              "      <td>81</td>\n",
              "      <td>2</td>\n",
              "    </tr>\n",
              "    <tr>\n",
              "      <th>3</th>\n",
              "      <td>orange</td>\n",
              "      <td>4.47</td>\n",
              "      <td>95.60</td>\n",
              "      <td>163</td>\n",
              "      <td>81</td>\n",
              "      <td>4</td>\n",
              "    </tr>\n",
              "    <tr>\n",
              "      <th>4</th>\n",
              "      <td>orange</td>\n",
              "      <td>4.48</td>\n",
              "      <td>95.76</td>\n",
              "      <td>161</td>\n",
              "      <td>72</td>\n",
              "      <td>9</td>\n",
              "    </tr>\n",
              "  </tbody>\n",
              "</table>\n",
              "</div>"
            ],
            "text/plain": [
              "     name  diameter  weight  red  green  blue\n",
              "0  orange      2.96   86.76  172     85     2\n",
              "1  orange      3.91   88.05  166     78     3\n",
              "2  orange      4.42   95.17  156     81     2\n",
              "3  orange      4.47   95.60  163     81     4\n",
              "4  orange      4.48   95.76  161     72     9"
            ]
          },
          "metadata": {
            "tags": []
          },
          "execution_count": 5
        }
      ]
    },
    {
      "cell_type": "code",
      "metadata": {
        "id": "o5xbmAfraiVs",
        "colab_type": "code",
        "colab": {
          "base_uri": "https://localhost:8080/",
          "height": 184
        },
        "outputId": "b1be1ac9-6923-4679-fc51-2965b8de80a6"
      },
      "source": [
        "df.name[df.name == 'orange'] = 0\n",
        "df.name[df.name == 'grapefruit'] = 1"
      ],
      "execution_count": 6,
      "outputs": [
        {
          "output_type": "stream",
          "text": [
            "/usr/local/lib/python3.6/dist-packages/ipykernel_launcher.py:1: SettingWithCopyWarning: \n",
            "A value is trying to be set on a copy of a slice from a DataFrame\n",
            "\n",
            "See the caveats in the documentation: https://pandas.pydata.org/pandas-docs/stable/user_guide/indexing.html#returning-a-view-versus-a-copy\n",
            "  \"\"\"Entry point for launching an IPython kernel.\n",
            "/usr/local/lib/python3.6/dist-packages/ipykernel_launcher.py:2: SettingWithCopyWarning: \n",
            "A value is trying to be set on a copy of a slice from a DataFrame\n",
            "\n",
            "See the caveats in the documentation: https://pandas.pydata.org/pandas-docs/stable/user_guide/indexing.html#returning-a-view-versus-a-copy\n",
            "  \n"
          ],
          "name": "stderr"
        }
      ]
    },
    {
      "cell_type": "code",
      "metadata": {
        "id": "3aK6oAZaaqiJ",
        "colab_type": "code",
        "colab": {}
      },
      "source": [
        "dataset = df.values"
      ],
      "execution_count": 9,
      "outputs": []
    },
    {
      "cell_type": "code",
      "metadata": {
        "id": "zRCs7Rm2aymP",
        "colab_type": "code",
        "colab": {}
      },
      "source": [
        "# pilih 4 kolom terakhir sebagai atribut\n",
        "X = dataset[:,1:6]"
      ],
      "execution_count": 10,
      "outputs": []
    },
    {
      "cell_type": "code",
      "metadata": {
        "id": "1bnA0kvjbDi_",
        "colab_type": "code",
        "colab": {}
      },
      "source": [
        "y = dataset[:,0]"
      ],
      "execution_count": 11,
      "outputs": []
    },
    {
      "cell_type": "code",
      "metadata": {
        "id": "Bqk_ZLCJbGDJ",
        "colab_type": "code",
        "colab": {
          "base_uri": "https://localhost:8080/",
          "height": 134
        },
        "outputId": "365dbbd6-bc85-4a69-d192-494f3761fbc1"
      },
      "source": [
        "# Normalization\n",
        "from sklearn import preprocessing\n",
        "min_max_scaler = preprocessing.MinMaxScaler()\n",
        "X_scale = min_max_scaler.fit_transform(X)\n",
        "X_scale"
      ],
      "execution_count": 12,
      "outputs": [
        {
          "output_type": "execute_result",
          "data": {
            "text/plain": [
              "array([[0.        , 0.        , 0.74025974, 0.63529412, 0.        ],\n",
              "       [0.07042254, 0.00738197, 0.66233766, 0.55294118, 0.01851852],\n",
              "       [0.10822832, 0.04812589, 0.53246753, 0.58823529, 0.        ],\n",
              "       ...,\n",
              "       [0.93624907, 0.97133047, 0.68831169, 0.6       , 0.33333333],\n",
              "       [0.96071164, 0.99216023, 0.35064935, 0.48235294, 0.16666667],\n",
              "       [1.        , 1.        , 0.48051948, 0.50588235, 0.        ]])"
            ]
          },
          "metadata": {
            "tags": []
          },
          "execution_count": 12
        }
      ]
    },
    {
      "cell_type": "code",
      "metadata": {
        "id": "kZLlHfq4bLff",
        "colab_type": "code",
        "colab": {}
      },
      "source": [
        "# pisahkan data training dan testing\n",
        "from sklearn.model_selection import train_test_split\n",
        "X_train, X_test, Y_train, Y_test = train_test_split(X_scale, y, test_size=0.3)"
      ],
      "execution_count": 13,
      "outputs": []
    },
    {
      "cell_type": "code",
      "metadata": {
        "id": "yiSHF7OFcrgp",
        "colab_type": "code",
        "colab": {}
      },
      "source": [
        "import numpy as np\n",
        "Y_train = Y_train.astype(np.float32)\n",
        "Y_test = Y_test.astype(np.float32)"
      ],
      "execution_count": 22,
      "outputs": []
    },
    {
      "cell_type": "code",
      "metadata": {
        "id": "oD5BG-9ebRli",
        "colab_type": "code",
        "colab": {}
      },
      "source": [
        "from keras.models import Sequential\n",
        "from keras.layers import Dense"
      ],
      "execution_count": 23,
      "outputs": []
    },
    {
      "cell_type": "code",
      "metadata": {
        "id": "NIN6Ex_zbTuV",
        "colab_type": "code",
        "colab": {}
      },
      "source": [
        "model = Sequential([    \n",
        "                    Dense(32, activation='relu', input_shape=(5,)),    \n",
        "                    Dense(32, activation='relu'),    \n",
        "                    Dense(1, activation='sigmoid'),])"
      ],
      "execution_count": 24,
      "outputs": []
    },
    {
      "cell_type": "code",
      "metadata": {
        "id": "6yCh851bbfu6",
        "colab_type": "code",
        "colab": {}
      },
      "source": [
        "model.compile(optimizer='sgd',\n",
        "              loss='binary_crossentropy',\n",
        "              metrics=['accuracy'])"
      ],
      "execution_count": 25,
      "outputs": []
    },
    {
      "cell_type": "code",
      "metadata": {
        "id": "eYICJS05boFB",
        "colab_type": "code",
        "colab": {
          "base_uri": "https://localhost:8080/",
          "height": 1000
        },
        "outputId": "f372f5cf-4890-4657-87a3-994a92ca7080"
      },
      "source": [
        "model.fit(X_train,\n",
        "          Y_train,\n",
        "          epochs=100)"
      ],
      "execution_count": 26,
      "outputs": [
        {
          "output_type": "stream",
          "text": [
            "Epoch 1/100\n",
            "219/219 [==============================] - 0s 895us/step - loss: 0.6621 - accuracy: 0.8247\n",
            "Epoch 2/100\n",
            "219/219 [==============================] - 0s 894us/step - loss: 0.6077 - accuracy: 0.8886\n",
            "Epoch 3/100\n",
            "219/219 [==============================] - 0s 911us/step - loss: 0.5374 - accuracy: 0.9133\n",
            "Epoch 4/100\n",
            "219/219 [==============================] - 0s 962us/step - loss: 0.4443 - accuracy: 0.9224\n",
            "Epoch 5/100\n",
            "219/219 [==============================] - 0s 927us/step - loss: 0.3530 - accuracy: 0.9266\n",
            "Epoch 6/100\n",
            "219/219 [==============================] - 0s 1ms/step - loss: 0.2856 - accuracy: 0.9279\n",
            "Epoch 7/100\n",
            "219/219 [==============================] - 0s 893us/step - loss: 0.2435 - accuracy: 0.9283\n",
            "Epoch 8/100\n",
            "219/219 [==============================] - 0s 937us/step - loss: 0.2189 - accuracy: 0.9280\n",
            "Epoch 9/100\n",
            "219/219 [==============================] - 0s 968us/step - loss: 0.2037 - accuracy: 0.9290\n",
            "Epoch 10/100\n",
            "219/219 [==============================] - 0s 910us/step - loss: 0.1950 - accuracy: 0.9276\n",
            "Epoch 11/100\n",
            "219/219 [==============================] - 0s 896us/step - loss: 0.1889 - accuracy: 0.9309\n",
            "Epoch 12/100\n",
            "219/219 [==============================] - 0s 996us/step - loss: 0.1854 - accuracy: 0.9286\n",
            "Epoch 13/100\n",
            "219/219 [==============================] - 0s 938us/step - loss: 0.1828 - accuracy: 0.9299\n",
            "Epoch 14/100\n",
            "219/219 [==============================] - 0s 984us/step - loss: 0.1814 - accuracy: 0.9294\n",
            "Epoch 15/100\n",
            "219/219 [==============================] - 0s 962us/step - loss: 0.1795 - accuracy: 0.9284\n",
            "Epoch 16/100\n",
            "219/219 [==============================] - 0s 1ms/step - loss: 0.1791 - accuracy: 0.9289\n",
            "Epoch 17/100\n",
            "219/219 [==============================] - 0s 945us/step - loss: 0.1786 - accuracy: 0.9281\n",
            "Epoch 18/100\n",
            "219/219 [==============================] - 0s 887us/step - loss: 0.1782 - accuracy: 0.9287\n",
            "Epoch 19/100\n",
            "219/219 [==============================] - 0s 1ms/step - loss: 0.1775 - accuracy: 0.9283\n",
            "Epoch 20/100\n",
            "219/219 [==============================] - 0s 899us/step - loss: 0.1776 - accuracy: 0.9281\n",
            "Epoch 21/100\n",
            "219/219 [==============================] - 0s 926us/step - loss: 0.1778 - accuracy: 0.9284\n",
            "Epoch 22/100\n",
            "219/219 [==============================] - 0s 887us/step - loss: 0.1778 - accuracy: 0.9277\n",
            "Epoch 23/100\n",
            "219/219 [==============================] - 0s 917us/step - loss: 0.1774 - accuracy: 0.9269\n",
            "Epoch 24/100\n",
            "219/219 [==============================] - 0s 909us/step - loss: 0.1773 - accuracy: 0.9296\n",
            "Epoch 25/100\n",
            "219/219 [==============================] - 0s 1ms/step - loss: 0.1771 - accuracy: 0.9287\n",
            "Epoch 26/100\n",
            "219/219 [==============================] - 0s 973us/step - loss: 0.1771 - accuracy: 0.9273\n",
            "Epoch 27/100\n",
            "219/219 [==============================] - 0s 887us/step - loss: 0.1766 - accuracy: 0.9293\n",
            "Epoch 28/100\n",
            "219/219 [==============================] - 0s 905us/step - loss: 0.1769 - accuracy: 0.9290\n",
            "Epoch 29/100\n",
            "219/219 [==============================] - 0s 877us/step - loss: 0.1765 - accuracy: 0.9274\n",
            "Epoch 30/100\n",
            "219/219 [==============================] - 0s 986us/step - loss: 0.1771 - accuracy: 0.9287\n",
            "Epoch 31/100\n",
            "219/219 [==============================] - 0s 906us/step - loss: 0.1769 - accuracy: 0.9283\n",
            "Epoch 32/100\n",
            "219/219 [==============================] - 0s 926us/step - loss: 0.1772 - accuracy: 0.9277\n",
            "Epoch 33/100\n",
            "219/219 [==============================] - 0s 967us/step - loss: 0.1763 - accuracy: 0.9299\n",
            "Epoch 34/100\n",
            "219/219 [==============================] - 0s 976us/step - loss: 0.1770 - accuracy: 0.9284\n",
            "Epoch 35/100\n",
            "219/219 [==============================] - 0s 1ms/step - loss: 0.1770 - accuracy: 0.9283\n",
            "Epoch 36/100\n",
            "219/219 [==============================] - 0s 967us/step - loss: 0.1767 - accuracy: 0.9290\n",
            "Epoch 37/100\n",
            "219/219 [==============================] - 0s 880us/step - loss: 0.1770 - accuracy: 0.9274\n",
            "Epoch 38/100\n",
            "219/219 [==============================] - 0s 969us/step - loss: 0.1766 - accuracy: 0.9281\n",
            "Epoch 39/100\n",
            "219/219 [==============================] - 0s 934us/step - loss: 0.1766 - accuracy: 0.9283\n",
            "Epoch 40/100\n",
            "219/219 [==============================] - 0s 939us/step - loss: 0.1768 - accuracy: 0.9281\n",
            "Epoch 41/100\n",
            "219/219 [==============================] - 0s 981us/step - loss: 0.1762 - accuracy: 0.9293\n",
            "Epoch 42/100\n",
            "219/219 [==============================] - 0s 984us/step - loss: 0.1764 - accuracy: 0.9291\n",
            "Epoch 43/100\n",
            "219/219 [==============================] - 0s 930us/step - loss: 0.1768 - accuracy: 0.9287\n",
            "Epoch 44/100\n",
            "219/219 [==============================] - 0s 986us/step - loss: 0.1766 - accuracy: 0.9284\n",
            "Epoch 45/100\n",
            "219/219 [==============================] - 0s 926us/step - loss: 0.1761 - accuracy: 0.9291\n",
            "Epoch 46/100\n",
            "219/219 [==============================] - 0s 978us/step - loss: 0.1766 - accuracy: 0.9273\n",
            "Epoch 47/100\n",
            "219/219 [==============================] - 0s 1ms/step - loss: 0.1762 - accuracy: 0.9289\n",
            "Epoch 48/100\n",
            "219/219 [==============================] - 0s 973us/step - loss: 0.1766 - accuracy: 0.9294\n",
            "Epoch 49/100\n",
            "219/219 [==============================] - 0s 998us/step - loss: 0.1765 - accuracy: 0.9294\n",
            "Epoch 50/100\n",
            "219/219 [==============================] - 0s 1ms/step - loss: 0.1765 - accuracy: 0.9280\n",
            "Epoch 51/100\n",
            "219/219 [==============================] - 0s 883us/step - loss: 0.1758 - accuracy: 0.9294\n",
            "Epoch 52/100\n",
            "219/219 [==============================] - 0s 925us/step - loss: 0.1765 - accuracy: 0.9271\n",
            "Epoch 53/100\n",
            "219/219 [==============================] - 0s 898us/step - loss: 0.1770 - accuracy: 0.9276\n",
            "Epoch 54/100\n",
            "219/219 [==============================] - 0s 866us/step - loss: 0.1764 - accuracy: 0.9287\n",
            "Epoch 55/100\n",
            "219/219 [==============================] - 0s 896us/step - loss: 0.1767 - accuracy: 0.9290\n",
            "Epoch 56/100\n",
            "219/219 [==============================] - 0s 881us/step - loss: 0.1768 - accuracy: 0.9286\n",
            "Epoch 57/100\n",
            "219/219 [==============================] - 0s 956us/step - loss: 0.1763 - accuracy: 0.9291\n",
            "Epoch 58/100\n",
            "219/219 [==============================] - 0s 978us/step - loss: 0.1762 - accuracy: 0.9286\n",
            "Epoch 59/100\n",
            "219/219 [==============================] - 0s 922us/step - loss: 0.1763 - accuracy: 0.9289\n",
            "Epoch 60/100\n",
            "219/219 [==============================] - 0s 916us/step - loss: 0.1764 - accuracy: 0.9300\n",
            "Epoch 61/100\n",
            "219/219 [==============================] - 0s 916us/step - loss: 0.1764 - accuracy: 0.9294\n",
            "Epoch 62/100\n",
            "219/219 [==============================] - 0s 910us/step - loss: 0.1765 - accuracy: 0.9280\n",
            "Epoch 63/100\n",
            "219/219 [==============================] - 0s 886us/step - loss: 0.1764 - accuracy: 0.9279\n",
            "Epoch 64/100\n",
            "219/219 [==============================] - 0s 899us/step - loss: 0.1763 - accuracy: 0.9286\n",
            "Epoch 65/100\n",
            "219/219 [==============================] - 0s 989us/step - loss: 0.1763 - accuracy: 0.9287\n",
            "Epoch 66/100\n",
            "219/219 [==============================] - 0s 946us/step - loss: 0.1761 - accuracy: 0.9289\n",
            "Epoch 67/100\n",
            "219/219 [==============================] - 0s 967us/step - loss: 0.1765 - accuracy: 0.9289\n",
            "Epoch 68/100\n",
            "219/219 [==============================] - 0s 1ms/step - loss: 0.1763 - accuracy: 0.9280\n",
            "Epoch 69/100\n",
            "219/219 [==============================] - 0s 940us/step - loss: 0.1761 - accuracy: 0.9299\n",
            "Epoch 70/100\n",
            "219/219 [==============================] - 0s 981us/step - loss: 0.1760 - accuracy: 0.9294\n",
            "Epoch 71/100\n",
            "219/219 [==============================] - 0s 997us/step - loss: 0.1763 - accuracy: 0.9273\n",
            "Epoch 72/100\n",
            "219/219 [==============================] - 0s 957us/step - loss: 0.1760 - accuracy: 0.9291\n",
            "Epoch 73/100\n",
            "219/219 [==============================] - 0s 981us/step - loss: 0.1759 - accuracy: 0.9277\n",
            "Epoch 74/100\n",
            "219/219 [==============================] - 0s 957us/step - loss: 0.1759 - accuracy: 0.9284\n",
            "Epoch 75/100\n",
            "219/219 [==============================] - 0s 1ms/step - loss: 0.1759 - accuracy: 0.9287\n",
            "Epoch 76/100\n",
            "219/219 [==============================] - 0s 949us/step - loss: 0.1759 - accuracy: 0.9281\n",
            "Epoch 77/100\n",
            "219/219 [==============================] - 0s 975us/step - loss: 0.1758 - accuracy: 0.9277\n",
            "Epoch 78/100\n",
            "219/219 [==============================] - 0s 1ms/step - loss: 0.1757 - accuracy: 0.9286\n",
            "Epoch 79/100\n",
            "219/219 [==============================] - 0s 981us/step - loss: 0.1757 - accuracy: 0.9280\n",
            "Epoch 80/100\n",
            "219/219 [==============================] - 0s 1ms/step - loss: 0.1761 - accuracy: 0.9277\n",
            "Epoch 81/100\n",
            "219/219 [==============================] - 0s 986us/step - loss: 0.1759 - accuracy: 0.9284\n",
            "Epoch 82/100\n",
            "219/219 [==============================] - 0s 974us/step - loss: 0.1758 - accuracy: 0.9276\n",
            "Epoch 83/100\n",
            "219/219 [==============================] - 0s 982us/step - loss: 0.1759 - accuracy: 0.9293\n",
            "Epoch 84/100\n",
            "219/219 [==============================] - 0s 977us/step - loss: 0.1760 - accuracy: 0.9276\n",
            "Epoch 85/100\n",
            "219/219 [==============================] - 0s 998us/step - loss: 0.1758 - accuracy: 0.9286\n",
            "Epoch 86/100\n",
            "219/219 [==============================] - 0s 960us/step - loss: 0.1757 - accuracy: 0.9296\n",
            "Epoch 87/100\n",
            "219/219 [==============================] - 0s 973us/step - loss: 0.1760 - accuracy: 0.9274\n",
            "Epoch 88/100\n",
            "219/219 [==============================] - 0s 930us/step - loss: 0.1760 - accuracy: 0.9287\n",
            "Epoch 89/100\n",
            "219/219 [==============================] - 0s 976us/step - loss: 0.1758 - accuracy: 0.9287\n",
            "Epoch 90/100\n",
            "219/219 [==============================] - 0s 925us/step - loss: 0.1761 - accuracy: 0.9287\n",
            "Epoch 91/100\n",
            "219/219 [==============================] - 0s 954us/step - loss: 0.1753 - accuracy: 0.9300\n",
            "Epoch 92/100\n",
            "219/219 [==============================] - 0s 898us/step - loss: 0.1758 - accuracy: 0.9284\n",
            "Epoch 93/100\n",
            "219/219 [==============================] - 0s 945us/step - loss: 0.1760 - accuracy: 0.9287\n",
            "Epoch 94/100\n",
            "219/219 [==============================] - 0s 938us/step - loss: 0.1757 - accuracy: 0.9290\n",
            "Epoch 95/100\n",
            "219/219 [==============================] - 0s 878us/step - loss: 0.1759 - accuracy: 0.9287\n",
            "Epoch 96/100\n",
            "219/219 [==============================] - 0s 913us/step - loss: 0.1754 - accuracy: 0.9306\n",
            "Epoch 97/100\n",
            "219/219 [==============================] - 0s 939us/step - loss: 0.1759 - accuracy: 0.9270\n",
            "Epoch 98/100\n",
            "219/219 [==============================] - 0s 889us/step - loss: 0.1755 - accuracy: 0.9281\n",
            "Epoch 99/100\n",
            "219/219 [==============================] - 0s 977us/step - loss: 0.1760 - accuracy: 0.9267\n",
            "Epoch 100/100\n",
            "219/219 [==============================] - 0s 917us/step - loss: 0.1756 - accuracy: 0.9293\n"
          ],
          "name": "stdout"
        },
        {
          "output_type": "execute_result",
          "data": {
            "text/plain": [
              "<tensorflow.python.keras.callbacks.History at 0x7feb297d46a0>"
            ]
          },
          "metadata": {
            "tags": []
          },
          "execution_count": 26
        }
      ]
    },
    {
      "cell_type": "code",
      "metadata": {
        "id": "5oi2gNLvbs1y",
        "colab_type": "code",
        "colab": {
          "base_uri": "https://localhost:8080/",
          "height": 50
        },
        "outputId": "b723171f-0844-4b1f-c817-a91d771891a1"
      },
      "source": [
        "model.evaluate(X_test,\n",
        "               Y_test)"
      ],
      "execution_count": 27,
      "outputs": [
        {
          "output_type": "stream",
          "text": [
            "94/94 [==============================] - 0s 852us/step - loss: 0.1797 - accuracy: 0.9277\n"
          ],
          "name": "stdout"
        },
        {
          "output_type": "execute_result",
          "data": {
            "text/plain": [
              "[0.17968398332595825, 0.9276666641235352]"
            ]
          },
          "metadata": {
            "tags": []
          },
          "execution_count": 27
        }
      ]
    },
    {
      "cell_type": "code",
      "metadata": {
        "id": "PKvn2IPfb236",
        "colab_type": "code",
        "colab": {}
      },
      "source": [
        ""
      ],
      "execution_count": null,
      "outputs": []
    }
  ]
}